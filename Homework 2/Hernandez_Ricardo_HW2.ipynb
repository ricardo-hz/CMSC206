{
  "nbformat": 4,
  "nbformat_minor": 0,
  "metadata": {
    "colab": {
      "provenance": []
    },
    "kernelspec": {
      "name": "python3",
      "display_name": "Python 3"
    },
    "language_info": {
      "name": "python"
    }
  },
  "cells": [
    {
      "cell_type": "code",
      "source": [
        "5#Author: Ricardo Hernandez\n",
        "cont = 'y'\n",
        "accumulator = 0\n",
        "numEntries = 0\n",
        "#Enhancement: Allow multiple numbers to be entered, average out for grade\n",
        "while (cont == 'y' or cont == 'Y'):\n",
        "  #Prompt for number\n",
        "  print(\"Enter a number between 0.0 and 1.0, inclusive\")\n",
        "  number = float(input())\n",
        "  #Validate number by returning false when it does not fall in range\n",
        "  while (not(number >= 0 and number <= 1)):\n",
        "    print (\"ERROR: {} does not fall into the specified range. Please try again\".format(number))\n",
        "    print(\"Enter a number between 0.0 and 1.0, inclusive\")\n",
        "    number = float(input())\n",
        "  #Accumulator is increased here to avoid invalid inputs from affecting final grade\n",
        "  accumulator += number\n",
        "  #Lesson learned: Python does not have an increment operator and presumably no decrement operator either\n",
        "  numEntries += 1\n",
        "  print(\"Would you like to enter another number? y/n\")\n",
        "  #Take the 0'th char of the string to allow the program to continue running if the user enters \"Yes\"\n",
        "  cont = input()[0]\n",
        "\n",
        "\n",
        "#Determine letter grade\n",
        "number = accumulator/numEntries\n",
        "print(\"\\nGrade percentage: {}%\".format(number * 100))\n",
        "if(number >= 0.9):\n",
        "  print(\"Letter Grade: A\")\n",
        "elif(number < 0.9 and number >= 0.8):\n",
        "  print(\"Letter Grade: B\")\n",
        "elif(number < 0.8 and number >= 0.7):\n",
        "  print(\"Letter Grade: C\")\n",
        "elif(number < 0.7 and number >= 0.6):\n",
        "  print(\"Letter Grade: D\")\n",
        "else:\n",
        "  print(\"Letter Grade: F\")"
      ],
      "metadata": {
        "id": "8FpftIFSqRCM"
      },
      "execution_count": null,
      "outputs": []
    },
    {
      "cell_type": "code",
      "source": [
        "#Author: Ricardo Hernandez\n",
        "\n",
        "print(\"Please choose a positive starting whole number\")\n",
        "startingNumber = int(input())\n",
        "print(\"Please choose a value to decrease your starting number by\")\n",
        "decrementValue = int(input())\n",
        "print(\"\\n\")\n",
        "\n",
        "while(startingNumber > -1):\n",
        "    print(startingNumber)\n",
        "    startingNumber -=  decrementValue"
      ],
      "metadata": {
        "id": "rvcE_x38sbYu"
      },
      "execution_count": null,
      "outputs": []
    },
    {
      "cell_type": "code",
      "source": [
        "#Author: Ricardo Hernandez\n",
        "\n",
        "#Practice: Switch(Match) statements\n",
        "#Program: Bus Route Finder\n",
        "cont = 'y'\n",
        "while(cont == 'y' or cont == 'Y'):\n",
        "  print(\"Please enter one of the following routes to obtain more information about the route: M62, P11, 10, 798\")\n",
        "  chosenRoute = input().upper().strip()\n",
        "\n",
        "  match chosenRoute:\n",
        "    case \"M62\":\n",
        "      print(\"Operator: WMATA\")\n",
        "      print(\"In Service?: No. Scheduled Summer 2025\")\n",
        "      print(\"Start - End: White Oak Medical Center (MoCo MD) - Fort Totten Station (DC)\")\n",
        "    case \"P11\":\n",
        "      print(\"Operator: WMATA\")\n",
        "      print(\"In Service?: No. Scheduled Summer 2025\")\n",
        "      print(\"Start - End: Greencastle (MoCo MD) - Hyattsville Crossing (PGCo MD) \")\n",
        "    case \"10\":\n",
        "      print(\"Operator: RideOn\")\n",
        "      print(\"In Service?: Yes\")\n",
        "      print(\"Start - End: Twinbrook Station (MoCo MD) - Hillandale (MoCo MD)\")\n",
        "    case \"798\":\n",
        "      print(\"Operator: Fairfax Connector\")\n",
        "      print(\"In Service?: Yes. Weekday rush hours only.\")\n",
        "      print(\"Start - End: Tysons West*Park Transit Station (VA) - Montgomery Lane and East Lane (Downtown Bethesda MoCo MD)\")\n",
        "    #Lesson learned: default is used for the 'catch all' statement in Java but not Python\n",
        "    case default:\n",
        "      print(\"Invalid Selection.\")\n",
        "\n",
        "  print(\"Would you like to enter another route? y/n\")\n",
        "  #Lesson learned: Python strings seem to be char arrays by defualt.\n",
        "  cont = input()[0]"
      ],
      "metadata": {
        "id": "XB8lRuKZMs2j"
      },
      "execution_count": null,
      "outputs": []
    }
  ]
}